{
 "cells": [
  {
   "cell_type": "markdown",
   "metadata": {},
   "source": [
    "## install miniconda and jupyterlab"
   ]
  },
  {
   "cell_type": "markdown",
   "metadata": {},
   "source": [
    "jupyterでトレーニングしていく上で環境の構築が必要になります。\n",
    "\n",
    "github上で綺麗に成形されたページでも勉強になるのですが、やはり、実際にコマンドを打ってデータの変化を楽しんだり、別のデータを入れて楽しんだりすることで理解が大きく進むと思われます。そんなに難しくないので下記を参考に環境を構築しましょう。\n",
    "\n",
    "この環境をどこに作るかは自由ですが、パブリッククラウドを利用するのが簡単で  \n",
    "GCPならUS regionのf1-micro、月間トラフィック量が1GB未満であれば永年無料とのこと。積極的に活用していきたい。\n",
    "\n",
    "無料だとインスタンスは一つしか作れないかもですが、このminicondaを活用して汚れてもいい環境でいろいろ試すことで、みんなに差をつけてることができるのではないかな。"
   ]
  },
  {
   "cell_type": "markdown",
   "metadata": {},
   "source": [
    "では、環境構築していきましょう。  \n",
    "\n",
    "まずは、ここでインストールスクリプトをダウンロードしてインストールしてください。  \n",
    "https://conda.io/miniconda.html\n",
    "\n",
    "64bit python 2.7  \n",
    "\n",
    "    User:~$ wget https://repo.continuum.io/miniconda/Miniconda2-latest-Linux-x86_64.sh\n",
    "    User:~$ bash Miniconda2-latest-Linux-x86_64.sh\n",
    "\n",
    "再ログイン  \n",
    "\n",
    "    User:~$ conda install numpy\n",
    "    User:~$ conda install pandas\n",
    "    User:~$ conda install -c conda-forge jupyterlab\n",
    "    User:~$ conda update conda\n",
    "\n",
    "    User:~$ cat .bashrc  # 追記されたPATHの確認\n",
    "\n",
    "    # added by Miniconda2 4.3.14 installer\n",
    "    export PATH=\"/home/User/miniconda2/bin:$PATH\"\n",
    "\n",
    "pathの先頭にこのpathが記載されるので、pythonやpipなどはここ配下のものが読み込まれるようになります。\n",
    "binの中身はこんな感じになっており、これらのコマンドがOSに初期でインストールされているコマンドよりも優先的に実行されることになります。opensslなんかもこちらのものが利用されるので留意しておく\n",
    "\n",
    "    2to3              f2py        jupyter-bundlerextension  jupyter-notebook         pip            sqlite3\n",
    "    activate          idle        jupyter-kernelspec        jupyter-run              pydoc          tclsh8.5\n",
    "    conda             iptest      jupyter-lab               jupyter-serverextension  pygmentize     wheel\n",
    "    conda-env         iptest2     jupyter-labextension      jupyter-troubleshoot     python         wish8.5\n",
    "    c_rehash          ipython     jupyter-labhub            jupyter-trust            python2\n",
    "    deactivate        ipython2    jupyter-migrate           openssl                  python2.7\n",
    "    easy_install      jsonschema  jupyter-nbconvert         pandoc                   python-config\n",
    "    easy_install-2.7  jupyter     jupyter-nbextension       pandoc-citeproc          smtpd.py\n"
   ]
  },
  {
   "cell_type": "markdown",
   "metadata": {},
   "source": [
    "これで準備は完了です。jupyterlabを起動していきましょう。"
   ]
  },
  {
   "cell_type": "markdown",
   "metadata": {},
   "source": [
    "## jupyter lab起動"
   ]
  },
  {
   "cell_type": "markdown",
   "metadata": {},
   "source": [
    "    User:~$ jupyter lab --ip=0.0.0.0\n",
    "w3mモードをqコマンドで抜けるとTokenを含んだURLが表示されているのでそこをコピペしてIPアドレスを修正してブラウザでアクセスすれば使えるようになります。  \n",
    "\n",
    "終了はctrl+c\n",
    "\n",
    "ブラウザでログイン後、ブラウザ上のTerminalを開いてそのターミナル上でこちらのコマンドを打てばノートブックが落ちてきて利用可能になります。\n",
    "\n",
    "    User:~$ sudo apt-get install git\n",
    "    User:~$ git clone https://github.com/tsuchinokooyabun/python-tutorial.git\n",
    "\n",
    "Jupyterのホームディレクトリを変更した場合はそのディレクトリに移動してから上記のコマンドを\n"
   ]
  },
  {
   "cell_type": "markdown",
   "metadata": {},
   "source": [
    "## sudoを使う場合は注意。\n",
    "pipでモジュールをインストールする場合にsudoが呼ばれるとrootのPATHが利用されるのでOS側のpythonにモジュールをインストールすることになります。"
   ]
  },
  {
   "cell_type": "markdown",
   "metadata": {},
   "source": [
    "## home directoryの変更"
   ]
  },
  {
   "cell_type": "markdown",
   "metadata": {},
   "source": [
    "    User~:$ mkdir work\n",
    "    User~:$ jupyter notebook --generate-config\n",
    "    User~:$ vi .jupyter/jupyter_notebook_config.py\n",
    "    ## c.NotebookApp.notebook_dir = u\n",
    "          ↓↓\n",
    "    c.NotebookApp.notebook_dir = u'/home/User/work'\n",
    "    User~:$ jupyter lab ip=0.0.0.0"
   ]
  },
  {
   "cell_type": "markdown",
   "metadata": {},
   "source": [
    "## condaとは"
   ]
  },
  {
   "cell_type": "markdown",
   "metadata": {},
   "source": [
    "condaはオープンソースであり複数のバージョンのソフトウェアとその依存関係を簡単にスイッチングできるようにするためのパッケージと環境の管理システム  \n",
    "\n",
    "クロスプラットフォームであり、ソフトウェアの実行やアップデートやその依存関係などが管理される  \n",
    "\n",
    "condaはAnacondaとMinicondaに含まれている。このソフトウェアをインストールすればcondaコマンドが提供される。  \n",
    "\n",
    "Anacondaとはpythonによるデータサイエンスプラットフォーム。データサイエンスのための100を超えたパッケージをまとめたディストリビューション。標準でインストールされないパッケージはconda installで行う。  \n",
    "\n",
    "Minicondaとはcondaとその他最小限のパッケージのみ提供されるパッケージ。必要なパッケージはContinuum repositoryからconda installで行う。  \n",
    "\n",
    "condaコマンドはAnacondaでインストールされるパッケージを管理するインターフェース。Anacondaで提供されるパッケージを検索したりインストールしているパッケージを確認したり。インストールされたRoot仮想環境の中で新たな環境をcreateしたりそれぞれの環境にパッケージのインストールやアップデートを行う。  \n",
    "\n",
    "    User:~$ conda create --name testdev\n",
    "    User:~$ conda info -e\n",
    "    # conda environments:\n",
    "    #\n",
    "    testdev               *  /home/ar/miniconda2/envs/testdev\n",
    "    root                     /home/ar/miniconda2\n",
    "\n",
    "condaで提供されていないパッケージはpipでインストールすることになるが、その場合でもpypi のパッケージから conda の recipe 作って conda で管理する良いとされてるようです。  \n",
    "\n",
    "pyinsturumentパッケージの例。本家のチュートリアルと同じ\n",
    "\n",
    "    User:~$ conda install conda-build\n",
    "    User:~$ conda upgrade conda\n",
    "    User:~$ conda upgrade conda-build\n",
    "    User:~$ conda skeleton pypi pyinstrument\n",
    "    User:~$ conda build pyinstrument\n",
    "    User:~$ conda install --use-local pyinstrument\n",
    "    User:~$ conda list\n",
    "    \n",
    "\n",
    "conda listを見るとpipでも普通にいろいろ入ってるのであまり気にせずpipで良いような気が。  \n",
    "そもそもイミュータブルな環境ですし"
   ]
  },
  {
   "cell_type": "markdown",
   "metadata": {},
   "source": [
    "## pypiとは"
   ]
  },
  {
   "cell_type": "markdown",
   "metadata": {},
   "source": [
    "python package index(pypi)とはpython言語のためのソフトウェアレポジトリ  \n",
    "\n",
    "conda buildはここのサイトからパッケージを自動でダウンロードしてきてconda用にビルドしてパッケージ化する。\n",
    "\n"
   ]
  },
  {
   "cell_type": "markdown",
   "metadata": {},
   "source": [
    "## condaでの仮想環境空間について"
   ]
  },
  {
   "cell_type": "markdown",
   "metadata": {},
   "source": [
    "minicondaをインストールするとインストールしたユーザ環境配下でRoot仮想環境が作られます。  \n",
    "\n",
    "/home/User/miniconda2\n",
    "\n",
    "この環境の配下でさらに仮想環境がいくつも作れます。下記が初期の仮想環境です。\n",
    "\n",
    "    User:~$ conda info -e\n",
    "    # conda environments:\n",
    "    #\n",
    "    root                  *  /home/User/miniconda2\n",
    "\n",
    "では作ってみます。下記コマンドはpython2.7と言う名前の仮想環境を作ってそこにpython2.7とanacondaをインストールするという命令です。\n",
    "\n",
    "    User:~$ conda create [--name|-n] python2.7 python=2.7 anaconda\n",
    "    User:~$ conda info -e\n",
    "    python2               *  /home/User/miniconda2/envs/python2\n",
    "    root                     /home/User/miniconda2\n",
    "\n",
    "この新しい環境を利用したい場合は  \n",
    "\n",
    "    User:~$ source activate python2\n",
    "\n",
    "抜けたい場合は  \n",
    "\n",
    "    User:~$ source deactivate\n",
    "\n",
    "環境を消したい場合は\n",
    "\n",
    "    User:~$ conda remove --name python2 --all\n",
    "\n",
    "\n"
   ]
  },
  {
   "cell_type": "markdown",
   "metadata": {},
   "source": [
    "## トレーニング用のノートブックのダウンロード"
   ]
  },
  {
   "cell_type": "markdown",
   "metadata": {},
   "source": [
    "    User:~$ sudo apt-get install git\n",
    "    User:~$ git clone https://github.com/tsuchinokooyabun/python-tutorial.git"
   ]
  }
 ],
 "metadata": {
  "kernelspec": {
   "display_name": "Python 2",
   "language": "python",
   "name": "python2"
  },
  "language_info": {
   "codemirror_mode": {
    "name": "ipython",
    "version": 2
   },
   "file_extension": ".py",
   "mimetype": "text/x-python",
   "name": "python",
   "nbconvert_exporter": "python",
   "pygments_lexer": "ipython2",
   "version": "2.7.13"
  }
 },
 "nbformat": 4,
 "nbformat_minor": 2
}
