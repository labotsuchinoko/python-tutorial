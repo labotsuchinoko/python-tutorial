{
 "cells": [
  {
   "cell_type": "markdown",
   "metadata": {},
   "source": [
    "## install miniconda and jupyterlab"
   ]
  },
  {
   "cell_type": "markdown",
   "metadata": {},
   "source": [
    "ここでインストールスクリプトをダウンロード\n",
    "https://conda.io/miniconda.html\n",
    "\n",
    "64bit python 2.7  \n",
    "\n",
    "    User:~$ wget https://repo.continuum.io/miniconda/Miniconda2-latest-Linux-x86_64.sh\n",
    "    User:~$ bash Miniconda2-latest-Linux-x86_64.sh\n",
    "\n",
    "再ログイン  \n",
    "\n",
    "    User:~$ conda install numpy\n",
    "    User:~$ conda install pandas\n",
    "    User:~$ conda install -c conda-forge jupyterlab\n",
    "    User:~$ conda update conda\n",
    "\n",
    "    User:~$ cat .bashrc  # 追記されたPATHの確認\n",
    "\n",
    "    # added by Miniconda2 4.3.14 installer\n",
    "    export PATH=\"/home/User/miniconda2/bin:$PATH\"\n",
    "\n",
    "pathの先頭にこのpathが記載されるので、pythonやpipなどはここ配下のものが読み込まれるようになります。\n",
    "binの中身はこんな感じになっており、これらのコマンドがOSに初期でインストールされているコマンドよりも優先的に実行されることになります。opensslなんかもこちらのものが利用されるので留意しておく\n",
    "\n",
    "    2to3              f2py        jupyter-bundlerextension  jupyter-notebook         pip            sqlite3\n",
    "    activate          idle        jupyter-kernelspec        jupyter-run              pydoc          tclsh8.5\n",
    "    conda             iptest      jupyter-lab               jupyter-serverextension  pygmentize     wheel\n",
    "    conda-env         iptest2     jupyter-labextension      jupyter-troubleshoot     python         wish8.5\n",
    "    c_rehash          ipython     jupyter-labhub            jupyter-trust            python2\n",
    "    deactivate        ipython2    jupyter-migrate           openssl                  python2.7\n",
    "    easy_install      jsonschema  jupyter-nbconvert         pandoc                   python-config\n",
    "    easy_install-2.7  jupyter     jupyter-nbextension       pandoc-citeproc          smtpd.py\n"
   ]
  },
  {
   "cell_type": "markdown",
   "metadata": {},
   "source": [
    "## jupyter lab起動"
   ]
  },
  {
   "cell_type": "markdown",
   "metadata": {},
   "source": [
    "    User:~$ jupyter lab --ip=0.0.0.0\n",
    "w3mモードをqコマンドで抜けるとTokenを含んだURLが表示されているのでそこをコピペしてIPアドレスを修正すれば使えるようになります。  \n",
    "\n",
    "終了はctrl+c\n"
   ]
  },
  {
   "cell_type": "markdown",
   "metadata": {},
   "source": [
    "## sudoを使う場合は注意。\n",
    "pipでモジュールをインストールする場合にsudoが呼ばれるとrootのPATHが利用されるのでOS側のpythonにモジュールをインストールすることになります。"
   ]
  },
  {
   "cell_type": "markdown",
   "metadata": {},
   "source": [
    "## home directoryの変更"
   ]
  },
  {
   "cell_type": "markdown",
   "metadata": {},
   "source": [
    "    User~:$ mkdir work\n",
    "    User~:$ jupyter notebook --generate-config\n",
    "    User~:$ vi .jupyter/jupyter_notebook_config.py\n",
    "    ## c.NotebookApp.notebook_dir = u\n",
    "          ↓↓\n",
    "    c.NotebookApp.notebook_dir = u'/home/User/work'\n",
    "    User~:$ jupyter lab ip=0.0.0.0"
   ]
  },
  {
   "cell_type": "code",
   "execution_count": null,
   "metadata": {},
   "outputs": [],
   "source": []
  }
 ],
 "metadata": {
  "kernelspec": {
   "display_name": "Python 2",
   "language": "python",
   "name": "python2"
  },
  "language_info": {
   "codemirror_mode": {
    "name": "ipython",
    "version": 2
   },
   "file_extension": ".py",
   "mimetype": "text/x-python",
   "name": "python",
   "nbconvert_exporter": "python",
   "pygments_lexer": "ipython2",
   "version": "2.7.13"
  }
 },
 "nbformat": 4,
 "nbformat_minor": 2
}
