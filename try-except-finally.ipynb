{
 "cells": [
  {
   "cell_type": "markdown",
   "metadata": {},
   "source": [
    "## try except else finally and with"
   ]
  },
  {
   "cell_type": "markdown",
   "metadata": {},
   "source": [
    "### try"
   ]
  },
  {
   "cell_type": "markdown",
   "metadata": {},
   "source": [
    "tryのユースケース  \n",
    "例外が出る可能性のある処理で利用するが、イベントごとに呼び出されるのでオーバーヘッドも考えて使うか使わないか検討する必要がある。ネットワーク接続やファイルの読み込みなどは必須だけど、その用途だとwithの方が良いとされる。  \n",
    "\n",
    "withとの使い分けとしては\n",
    "\n",
    "with pythonプログラム以外の外部の要因で例外の可能性がある場合に利用。  \n",
    "例）読み込みエラーやネットワーク接続など  \n",
    "\n",
    "try pythonプログラム内での例外処理で利用  \n",
    "例）配列にない要素へアクセスした場合など"
   ]
  },
  {
   "cell_type": "markdown",
   "metadata": {},
   "source": [
    "    try:\n",
    "      # 例外が発生する可能性のある処理\n",
    "    except: #例外すべて\n",
    "      # 例外発生時の処理"
   ]
  },
  {
   "cell_type": "code",
   "execution_count": 63,
   "metadata": {},
   "outputs": [
    {
     "name": "stdout",
     "output_type": "stream",
     "text": [
      "<type 'exceptions.ZeroDivisionError'>\n",
      "('integer division or modulo by zero',)\n"
     ]
    }
   ],
   "source": [
    "try:\n",
    "    warizan = 10 / 0\n",
    "except Exception as e:\n",
    "    print(type(e)) \n",
    "    print(e.args)"
   ]
  },
  {
   "cell_type": "markdown",
   "metadata": {},
   "source": [
    "Exceptionクラスは全ての例外エラーを補足できるが、エラーごとに処理を書いていくのが良いとされる。\n",
    "\n",
    "下記では0除算エラーを補足して処理を行っている。"
   ]
  },
  {
   "cell_type": "code",
   "execution_count": 64,
   "metadata": {},
   "outputs": [
    {
     "name": "stdout",
     "output_type": "stream",
     "text": [
      "('Handling run-time error:', ZeroDivisionError('integer division or modulo by zero',))\n"
     ]
    }
   ],
   "source": [
    "def this_fails():\n",
    "     x = 1/0\n",
    "try:\n",
    "     this_fails()\n",
    "except ZeroDivisionError as err:\n",
    "     print('Handling run-time error:', err)"
   ]
  },
  {
   "cell_type": "markdown",
   "metadata": {},
   "source": [
    "下記は複数のエラーを想定している。\n",
    "\n",
    "ZeroDivisionErrorとTypeErrorでそれぞれ処理を行っている。"
   ]
  },
  {
   "cell_type": "code",
   "execution_count": 77,
   "metadata": {},
   "outputs": [],
   "source": [
    "def divide(x, y):\n",
    "    try:\n",
    "        result = x / y\n",
    "    except ZeroDivisionError as z:\n",
    "        print(z)\n",
    "    except TypeError as t:\n",
    "        print(t)\n",
    "    else:\n",
    "        print(\"result is\", result)\n",
    "    finally:\n",
    "        print(\"executing finally clause\")"
   ]
  },
  {
   "cell_type": "code",
   "execution_count": 78,
   "metadata": {},
   "outputs": [
    {
     "name": "stdout",
     "output_type": "stream",
     "text": [
      "('result is', 0)\n",
      "executing finally clause\n"
     ]
    }
   ],
   "source": [
    "divide(1,2)"
   ]
  },
  {
   "cell_type": "code",
   "execution_count": 79,
   "metadata": {},
   "outputs": [
    {
     "name": "stdout",
     "output_type": "stream",
     "text": [
      "integer division or modulo by zero\n",
      "executing finally clause\n"
     ]
    }
   ],
   "source": [
    "divide(1,0)"
   ]
  },
  {
   "cell_type": "code",
   "execution_count": 80,
   "metadata": {},
   "outputs": [
    {
     "name": "stdout",
     "output_type": "stream",
     "text": [
      "unsupported operand type(s) for /: 'str' and 'str'\n",
      "executing finally clause\n"
     ]
    }
   ],
   "source": [
    "divide(\"1\",\"2\")"
   ]
  },
  {
   "cell_type": "markdown",
   "metadata": {},
   "source": [
    "例外エラー名がわからないことには処理もかけない。ウェブのドキュメントを見るか実際のエラーから確認していく\n",
    "\n",
    "__str__もしくはtype()で確認出来る。"
   ]
  },
  {
   "cell_type": "code",
   "execution_count": 92,
   "metadata": {},
   "outputs": [],
   "source": [
    "def divide(x, y):\n",
    "    try:\n",
    "        result = x / y\n",
    "    except Exception as e:\n",
    "        print(type(e))\n",
    "        print(e.__str__)"
   ]
  },
  {
   "cell_type": "code",
   "execution_count": 93,
   "metadata": {},
   "outputs": [
    {
     "name": "stdout",
     "output_type": "stream",
     "text": [
      "<type 'exceptions.ZeroDivisionError'>\n",
      "<method-wrapper '__str__' of exceptions.ZeroDivisionError object at 0x7f45dcdfadd0>\n"
     ]
    }
   ],
   "source": [
    "divide(1,0)\n",
    "#ZeroDivisionError"
   ]
  },
  {
   "cell_type": "code",
   "execution_count": 83,
   "metadata": {},
   "outputs": [
    {
     "name": "stdout",
     "output_type": "stream",
     "text": [
      "<type 'exceptions.TypeError'>\n"
     ]
    }
   ],
   "source": [
    "divide(\"1\",\"2\")\n",
    "#TypeError"
   ]
  },
  {
   "cell_type": "markdown",
   "metadata": {},
   "source": [
    "別の書き方で箸休め"
   ]
  },
  {
   "cell_type": "code",
   "execution_count": 91,
   "metadata": {},
   "outputs": [
    {
     "name": "stdout",
     "output_type": "stream",
     "text": [
      "type:<type 'exceptions.ZeroDivisionError'>\n",
      "args:('integer division or modulo by zero',)\n",
      "integer division or modulo by zero\n"
     ]
    }
   ],
   "source": [
    "try:\n",
    "    a = 10 / 0\n",
    "    print(\"{0}\".format(a))\n",
    "except ZeroDivisionError as e:\n",
    "    print(\"type:{0}\".format(type(e)))\n",
    "    print(\"args:{0}\".format(e.args))\n",
    "    print(\"{0}\".format(e))"
   ]
  },
  {
   "cell_type": "markdown",
   "metadata": {},
   "source": [
    ".format()が出てきたのでフォーマットについて寄り道します"
   ]
  },
  {
   "cell_type": "markdown",
   "metadata": {},
   "source": [
    "## %形式の文字列フォーマットとstr.format関数フォーマット  \n",
    "\n",
    "他言語におけるsprintf  \n",
    "\n",
    "formatの方が新しく、将来的には置き換えられる予定みたい。"
   ]
  },
  {
   "cell_type": "code",
   "execution_count": 117,
   "metadata": {},
   "outputs": [
    {
     "data": {
      "text/plain": [
       "'foo bar'"
      ]
     },
     "execution_count": 117,
     "metadata": {},
     "output_type": "execute_result"
    }
   ],
   "source": [
    "\"%s %s\" % ('foo', 'bar',)"
   ]
  },
  {
   "cell_type": "code",
   "execution_count": 118,
   "metadata": {},
   "outputs": [
    {
     "data": {
      "text/plain": [
       "'foo bar'"
      ]
     },
     "execution_count": 118,
     "metadata": {},
     "output_type": "execute_result"
    }
   ],
   "source": [
    "\"{}\".format(\"foo bar\")\n",
    "# {0}の0は省略可能"
   ]
  },
  {
   "cell_type": "code",
   "execution_count": 121,
   "metadata": {},
   "outputs": [
    {
     "data": {
      "text/plain": [
       "\"('foo bar',)\""
      ]
     },
     "execution_count": 121,
     "metadata": {},
     "output_type": "execute_result"
    }
   ],
   "source": [
    "\"{}\".format((\"foo bar\",))\n",
    "# {0}の0は省略可能\n",
    "# カッコを含む文字列として認識する"
   ]
  },
  {
   "cell_type": "code",
   "execution_count": 122,
   "metadata": {},
   "outputs": [
    {
     "data": {
      "text/plain": [
       "'oyabun tsuchinoko'"
      ]
     },
     "execution_count": 122,
     "metadata": {},
     "output_type": "execute_result"
    }
   ],
   "source": [
    "\"{0} {1}\".format(\"oyabun\", \"tsuchinoko\")"
   ]
  },
  {
   "cell_type": "code",
   "execution_count": 124,
   "metadata": {},
   "outputs": [
    {
     "data": {
      "text/plain": [
       "'oyabun tsuchinoko'"
      ]
     },
     "execution_count": 124,
     "metadata": {},
     "output_type": "execute_result"
    }
   ],
   "source": [
    "\"{first} {last}\".format(first=\"oyabun\", last=\"tsuchinoko\")"
   ]
  },
  {
   "cell_type": "markdown",
   "metadata": {},
   "source": [
    "具体的に.formatとはどのように動作しているのか見ていこう。  \n",
    "\n",
    "下記のCountryクラスは__format__の引数にicaoを渡されるとself.icaoを返す、それ以外の場合はself.nameを返すクラスだ。"
   ]
  },
  {
   "cell_type": "code",
   "execution_count": 181,
   "metadata": {},
   "outputs": [],
   "source": [
    "    class Airport:\n",
    "        def __init__(self, name, icao):\n",
    "            self.name, self.icao = name, icao\n",
    "     \n",
    "        def __format__(self, spec):\n",
    "            if spec == 'icao':\n",
    "                return self.icao\n",
    "            return self.name\n",
    "     \n",
    "    airport = Airport(\"Haneda\", \"RJTT\")"
   ]
  },
  {
   "cell_type": "code",
   "execution_count": 182,
   "metadata": {},
   "outputs": [
    {
     "data": {
      "text/plain": [
       "'Haneda'"
      ]
     },
     "execution_count": 182,
     "metadata": {},
     "output_type": "execute_result"
    }
   ],
   "source": [
    "airport.name\n",
    "# __init__を呼んだ場合"
   ]
  },
  {
   "cell_type": "code",
   "execution_count": 183,
   "metadata": {},
   "outputs": [
    {
     "data": {
      "text/plain": [
       "'RJTT'"
      ]
     },
     "execution_count": 183,
     "metadata": {},
     "output_type": "execute_result"
    }
   ],
   "source": [
    "airport.icao\n",
    "# __init__を呼んだ場合"
   ]
  },
  {
   "cell_type": "code",
   "execution_count": 184,
   "metadata": {},
   "outputs": [
    {
     "data": {
      "text/plain": [
       "'Haneda'"
      ]
     },
     "execution_count": 184,
     "metadata": {},
     "output_type": "execute_result"
    }
   ],
   "source": [
    "\"{}\".format(airport)\n",
    "# __format__を呼んだ場合\n",
    "# 引数なし"
   ]
  },
  {
   "cell_type": "code",
   "execution_count": 185,
   "metadata": {},
   "outputs": [
    {
     "data": {
      "text/plain": [
       "'RJTT'"
      ]
     },
     "execution_count": 185,
     "metadata": {},
     "output_type": "execute_result"
    }
   ],
   "source": [
    "\"{:icao}\".format(airport)\n",
    "# __format__を呼んだ場合\n",
    "# 引数あり :icao"
   ]
  },
  {
   "cell_type": "code",
   "execution_count": 186,
   "metadata": {},
   "outputs": [
    {
     "data": {
      "text/plain": [
       "'Haneda'"
      ]
     },
     "execution_count": 186,
     "metadata": {},
     "output_type": "execute_result"
    }
   ],
   "source": [
    "\"{:!icao}\".format(airport)\n",
    "# __format__を呼んだ場合\n",
    "# icao以外の文字列"
   ]
  },
  {
   "cell_type": "markdown",
   "metadata": {},
   "source": [
    "実際に実装されているオブジェクトの例も見ておこう  \n",
    "\n",
    "下記はdatetimeオブジェクトに用意されている__format__を利用して%A %bという引数を渡して、曜日と月をリターンしてもらうコード"
   ]
  },
  {
   "cell_type": "code",
   "execution_count": 187,
   "metadata": {},
   "outputs": [
    {
     "name": "stdout",
     "output_type": "stream",
     "text": [
      "Today is Tuesday Jun\n"
     ]
    }
   ],
   "source": [
    "import datetime\n",
    "print(\"Today is {:%A %b}\".format(datetime.datetime.now()))"
   ]
  },
  {
   "cell_type": "markdown",
   "metadata": {},
   "source": [
    "datetime.datetime.now()についてどのようなリターンが出るのか最後に見ておこう。"
   ]
  },
  {
   "cell_type": "code",
   "execution_count": 188,
   "metadata": {},
   "outputs": [
    {
     "data": {
      "text/plain": [
       "datetime.datetime(2017, 6, 6, 9, 37, 37, 421825)"
      ]
     },
     "execution_count": 188,
     "metadata": {},
     "output_type": "execute_result"
    }
   ],
   "source": [
    "datetime.datetime.now()"
   ]
  },
  {
   "cell_type": "markdown",
   "metadata": {},
   "source": [
    "では、戻ります。"
   ]
  },
  {
   "cell_type": "markdown",
   "metadata": {},
   "source": [
    "エラーごとに処理を分ける場合の復習\n",
    "\n",
    "下記ではexceptがelsifの役割を果たしていることがわかるとおもいます。  \n",
    "\n",
    "finallyについてはexceptを通ろうがelseを通ろうが全ての処理で実行されます。"
   ]
  },
  {
   "cell_type": "code",
   "execution_count": 11,
   "metadata": {},
   "outputs": [
    {
     "name": "stdout",
     "output_type": "stream",
     "text": [
      "IndexError\n",
      "always excute\n"
     ]
    }
   ],
   "source": [
    "str = 'ABC'\n",
    "try:\n",
    "    c = str[5]                    # 5番目の文字が無いので、IndexError例外が発生します\n",
    "except IndexError:\n",
    "    print 'IndexError'            # IndexError例外の場合、このブロックが実行されます\n",
    "except:\n",
    "    print 'Unknown'               # 上記以外の例外の場合、このブロックが実行されます\n",
    "else:\n",
    "    print 'success'               # オプション 例外が発生しなかった場合、このブロックが実行されます\n",
    "finally:\n",
    "    print 'always excute'         # オプション 常に、このブロックが実行されます"
   ]
  },
  {
   "cell_type": "markdown",
   "metadata": {},
   "source": [
    "今度はカスタムでの例外クラスを作ってみよう。クラス名がそのまま例外エラー名になる。"
   ]
  },
  {
   "cell_type": "code",
   "execution_count": 193,
   "metadata": {},
   "outputs": [
    {
     "name": "stdout",
     "output_type": "stream",
     "text": [
      "<class '__main__.MyError'>\n",
      "My exception occurred, value: 4\n"
     ]
    }
   ],
   "source": [
    "class MyError(Exception):\n",
    "   def __init__(self, value):\n",
    "       self.value = value\n",
    "\n",
    "   def __str__(self):\n",
    "      return repr(self.value)\n",
    "\n",
    "try:\n",
    "     raise MyError(2*2)\n",
    "except MyError as e:\n",
    "     print(type(e))\n",
    "     print 'My exception occurred, value:', e.value"
   ]
  },
  {
   "cell_type": "markdown",
   "metadata": {},
   "source": [
    "先ほども書きましたが、Exceptionは全てのエラーを補足します。なので下記のようにカスタムエラーも補足できます。"
   ]
  },
  {
   "cell_type": "code",
   "execution_count": 195,
   "metadata": {},
   "outputs": [
    {
     "name": "stdout",
     "output_type": "stream",
     "text": [
      "My exception occurred, value: 4\n"
     ]
    }
   ],
   "source": [
    "class MyError(Exception):\n",
    "   def __init__(self, value):\n",
    "       self.value = value\n",
    "\n",
    "   def __str__(self):\n",
    "      return repr(self.value)\n",
    "\n",
    "try:\n",
    "     raise MyError(2*2)\n",
    "except Exception as e:\n",
    "     print 'My exception occurred, value:', e.value"
   ]
  },
  {
   "cell_type": "code",
   "execution_count": null,
   "metadata": {},
   "outputs": [],
   "source": []
  },
  {
   "cell_type": "markdown",
   "metadata": {},
   "source": [
    "### with"
   ]
  },
  {
   "cell_type": "code",
   "execution_count": 33,
   "metadata": {},
   "outputs": [
    {
     "name": "stdout",
     "output_type": "stream",
     "text": [
      "My exception occurred, value: 4\n"
     ]
    }
   ],
   "source": [
    "class MyError(Exception):\n",
    "   def __init__(self, value):\n",
    "       self.value = value\n",
    "\n",
    "\n",
    "try:\n",
    "     raise MyError(2*2)\n",
    "except MyError as e:\n",
    "     print 'My exception occurred, value:', e.value"
   ]
  },
  {
   "cell_type": "code",
   "execution_count": null,
   "metadata": {},
   "outputs": [],
   "source": []
  }
 ],
 "metadata": {
  "kernelspec": {
   "display_name": "Python 2",
   "language": "python",
   "name": "python2"
  },
  "language_info": {
   "codemirror_mode": {
    "name": "ipython",
    "version": 2
   },
   "file_extension": ".py",
   "mimetype": "text/x-python",
   "name": "python",
   "nbconvert_exporter": "python",
   "pygments_lexer": "ipython2",
   "version": "2.7.13"
  }
 },
 "nbformat": 4,
 "nbformat_minor": 2
}
