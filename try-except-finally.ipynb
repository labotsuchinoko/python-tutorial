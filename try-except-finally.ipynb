{
 "cells": [
  {
   "cell_type": "markdown",
   "metadata": {},
   "source": [
    "## try except else finally and with"
   ]
  },
  {
   "cell_type": "markdown",
   "metadata": {},
   "source": [
    "### try"
   ]
  },
  {
   "cell_type": "markdown",
   "metadata": {},
   "source": [
    "tryのユースケース  \n",
    "例外が出る可能性のある処理で利用するが、イベントごとに呼び出されるのでオーバーヘッドも考えて使うか使わないか検討する必要がある。ネットワーク接続やファイルの読み込みなどは必須だけど、こちらはwithの方が良さそう  \n",
    "\n",
    "withとの使い分けとしては\n",
    "\n",
    "with pythonプログラム以外の外部の要因で例外の可能性がある場合に利用。例えば読み込みエラーやネットワーク接続など  \n",
    "\n",
    "try pythonプログラム内での例外処理で利用"
   ]
  },
  {
   "cell_type": "markdown",
   "metadata": {},
   "source": [
    "    try:\n",
    "      # 例外が発生する可能性のある処理\n",
    "    except: #例外すべて\n",
    "      # 例外発生時の処理"
   ]
  },
  {
   "cell_type": "code",
   "execution_count": 4,
   "metadata": {},
   "outputs": [
    {
     "name": "stdout",
     "output_type": "stream",
     "text": [
      "__init__\n",
      "__enter__\n",
      "integer division or modulo by zero\n",
      "__end__\n"
     ]
    }
   ],
   "source": [
    "try:\n",
    "    warizan = 10 / 0\n",
    "except Exception as e:\n",
    "    print e"
   ]
  },
  {
   "cell_type": "markdown",
   "metadata": {},
   "source": [
    "エラー内容ごとに処理を分けたい場合はこんな感じで"
   ]
  },
  {
   "cell_type": "code",
   "execution_count": 11,
   "metadata": {},
   "outputs": [
    {
     "name": "stdout",
     "output_type": "stream",
     "text": [
      "IndexError\n",
      "always excute\n"
     ]
    }
   ],
   "source": [
    "str = 'ABC'\n",
    "try:\n",
    "    c = str[5]                    # 5番目の文字が無いので、IndexError例外が発生します\n",
    "except IndexError:\n",
    "    print 'IndexError'            # IndexError例外の場合、このブロックが実行されます\n",
    "except:\n",
    "    print 'Unknown'               # 上記以外の例外の場合、このブロックが実行されます\n",
    "else:\n",
    "    print 'success'               # オプション 例外が発生しなかった場合、このブロックが実行されます\n",
    "finally:\n",
    "    print 'always excute'         # オプション 常に、このブロックが実行されます"
   ]
  },
  {
   "cell_type": "markdown",
   "metadata": {},
   "source": [
    "### with"
   ]
  },
  {
   "cell_type": "code",
   "execution_count": null,
   "metadata": {},
   "outputs": [],
   "source": []
  }
 ],
 "metadata": {
  "kernelspec": {
   "display_name": "Python 2",
   "language": "python",
   "name": "python2"
  },
  "language_info": {
   "codemirror_mode": {
    "name": "ipython",
    "version": 2
   },
   "file_extension": ".py",
   "mimetype": "text/x-python",
   "name": "python",
   "nbconvert_exporter": "python",
   "pygments_lexer": "ipython2",
   "version": "2.7.13"
  }
 },
 "nbformat": 4,
 "nbformat_minor": 2
}
